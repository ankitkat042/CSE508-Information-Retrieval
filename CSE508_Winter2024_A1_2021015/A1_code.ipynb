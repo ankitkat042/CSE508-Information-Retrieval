{
 "cells": [
  {
   "cell_type": "markdown",
   "metadata": {},
   "source": [
    "Importing necessary packages "
   ]
  },
  {
   "cell_type": "code",
   "execution_count": 2,
   "metadata": {},
   "outputs": [],
   "source": [
    "import os\n",
    "import string\n",
    "import nltk\n",
    "from nltk.tokenize import word_tokenize\n",
    "from nltk.corpus import stopwords\n",
    "import pickle\n",
    "import json\n",
    "import re\n",
    "\n",
    "# nltk.download('punkt')\n",
    "# nltk.download('stopwords')\n",
    "stop_words = set(stopwords.words('english'))\n",
    "punctuation_table = str.maketrans('', '', string.punctuation)"
   ]
  },
  {
   "cell_type": "markdown",
   "metadata": {},
   "source": [
    "just a sort funciton to sort the irregular naming format used in text_files"
   ]
  },
  {
   "cell_type": "code",
   "execution_count": 3,
   "metadata": {},
   "outputs": [],
   "source": [
    "def sortpls(doc):\n",
    "    return sorted(doc, key=lambda x: int(re.search(r'\\d+', x).group()))"
   ]
  },
  {
   "cell_type": "markdown",
   "metadata": {},
   "source": [
    "# Q1\n",
    "For 5 files: file1.txt, file2.txt, file3.txt, file4.txt and file5.txt"
   ]
  },
  {
   "cell_type": "code",
   "execution_count": 4,
   "metadata": {},
   "outputs": [
    {
     "name": "stdout",
     "output_type": "stream",
     "text": [
      "-----------------------------------------------------------------------\n",
      "file1.txt\n",
      "Original Text: Loving these vintage springs on my vintage strat. They have a good tension and great stability. If you are floating your bridge and want the most out of your springs than these are the way to go.\n",
      "1. Lower Case:  loving these vintage springs on my vintage strat. they have a good tension and great stability. if you are floating your bridge and want the most out of your springs than these are the way to go.\n",
      "2. tokenized:  loving these vintage springs on my vintage strat . they have a good tension and great stability . if you are floating your bridge and want the most out of your springs than these are the way to go .\n",
      "3. Stopwords Removed: loving vintage springs vintage strat . good tension great stability . floating bridge want springs way go .\n",
      "4. Punctuation Removed: loving vintage springs vintage strat  good tension great stability  floating bridge want springs way go \n",
      "5. Space Removed: loving vintage springs vintage strat good tension great stability floating bridge want springs way go\n",
      "-----------------------------------------------------------------------\n",
      "file2.txt\n",
      "Original Text: Works great as a guitar bench mat. Not rugged enough for abuse but if you take care of it, it will take care of you. Makes organization of workspace much easier because screws won't roll around. Color is good too.\n",
      "1. Lower Case:  works great as a guitar bench mat. not rugged enough for abuse but if you take care of it, it will take care of you. makes organization of workspace much easier because screws won't roll around. color is good too.\n",
      "2. tokenized:  works great as a guitar bench mat . not rugged enough for abuse but if you take care of it , it will take care of you . makes organization of workspace much easier because screws wo n't roll around . color is good too .\n",
      "3. Stopwords Removed: works great guitar bench mat . rugged enough abuse take care , take care . makes organization workspace much easier screws wo n't roll around . color good .\n",
      "4. Punctuation Removed: works great guitar bench mat  rugged enough abuse take care  take care  makes organization workspace much easier screws wo nt roll around  color good \n",
      "5. Space Removed: works great guitar bench mat rugged enough abuse take care take care makes organization workspace much easier screws wo nt roll around color good\n",
      "-----------------------------------------------------------------------\n",
      "file3.txt\n",
      "Original Text: We use these for everything from our acoustic bass down to our ukuleles. I know there is a smaller model available for ukes, violins, etc.; we haven't yet ordered those, but these will work on smaller instruments if one doesn't extend the feet to their maximum width. They're gentle on the instruments, and the grippy material keeps them secure.\n",
      "\n",
      "The greatest benefit has been when writing music at the computer and needing to set a guitar down to use the keyboard/mouse - just easier for me than a hanging stand.\n",
      "\n",
      "We have several and gave one to a friend for Christmas as well. I've used mine on stage, and it folds up small enough to fit right in my gig bag.\n",
      "1. Lower Case:  we use these for everything from our acoustic bass down to our ukuleles. i know there is a smaller model available for ukes, violins, etc.; we haven't yet ordered those, but these will work on smaller instruments if one doesn't extend the feet to their maximum width. they're gentle on the instruments, and the grippy material keeps them secure.\n",
      "\n",
      "the greatest benefit has been when writing music at the computer and needing to set a guitar down to use the keyboard/mouse - just easier for me than a hanging stand.\n",
      "\n",
      "we have several and gave one to a friend for christmas as well. i've used mine on stage, and it folds up small enough to fit right in my gig bag.\n",
      "2. tokenized:  we use these for everything from our acoustic bass down to our ukuleles . i know there is a smaller model available for ukes , violins , etc . ; we have n't yet ordered those , but these will work on smaller instruments if one does n't extend the feet to their maximum width . they 're gentle on the instruments , and the grippy material keeps them secure . the greatest benefit has been when writing music at the computer and needing to set a guitar down to use the keyboard/mouse - just easier for me than a hanging stand . we have several and gave one to a friend for christmas as well . i 've used mine on stage , and it folds up small enough to fit right in my gig bag .\n",
      "3. Stopwords Removed: use everything acoustic bass ukuleles . know smaller model available ukes , violins , etc . ; n't yet ordered , work smaller instruments one n't extend feet maximum width . 're gentle instruments , grippy material keeps secure . greatest benefit writing music computer needing set guitar use keyboard/mouse - easier hanging stand . several gave one friend christmas well . 've used mine stage , folds small enough fit right gig bag .\n",
      "4. Punctuation Removed: use everything acoustic bass ukuleles  know smaller model available ukes  violins  etc   nt yet ordered  work smaller instruments one nt extend feet maximum width  re gentle instruments  grippy material keeps secure  greatest benefit writing music computer needing set guitar use keyboardmouse  easier hanging stand  several gave one friend christmas well  ve used mine stage  folds small enough fit right gig bag \n",
      "5. Space Removed: use everything acoustic bass ukuleles know smaller model available ukes violins etc nt yet ordered work smaller instruments one nt extend feet maximum width re gentle instruments grippy material keeps secure greatest benefit writing music computer needing set guitar use keyboardmouse easier hanging stand several gave one friend christmas well ve used mine stage folds small enough fit right gig bag\n",
      "-----------------------------------------------------------------------\n",
      "file4.txt\n",
      "Original Text: Great price and good quality.  It didn't quite match the radius of my sound hole but it was close enough.\n",
      "1. Lower Case:  great price and good quality.  it didn't quite match the radius of my sound hole but it was close enough.\n",
      "2. tokenized:  great price and good quality . it did n't quite match the radius of my sound hole but it was close enough .\n",
      "3. Stopwords Removed: great price good quality . n't quite match radius sound hole close enough .\n",
      "4. Punctuation Removed: great price good quality  nt quite match radius sound hole close enough \n",
      "5. Space Removed: great price good quality nt quite match radius sound hole close enough\n",
      "-----------------------------------------------------------------------\n",
      "file5.txt\n",
      "Original Text: I bought this bass to split time as my primary bass with my Dean Edge. This might be winning me over. The bass boost is outstanding. The active pickups really allow you to adjust to the sound you want. I recommend this for anyone. If you're a beginner  like I was not too long ago, it's an excellent bass to start with. If you're on tour and/or music is making you money, this bass will be beatiful on stage. The color is a bit darker than in the picture. But, all around, this is a great buy.\n",
      "1. Lower Case:  i bought this bass to split time as my primary bass with my dean edge. this might be winning me over. the bass boost is outstanding. the active pickups really allow you to adjust to the sound you want. i recommend this for anyone. if you're a beginner  like i was not too long ago, it's an excellent bass to start with. if you're on tour and/or music is making you money, this bass will be beatiful on stage. the color is a bit darker than in the picture. but, all around, this is a great buy.\n",
      "2. tokenized:  i bought this bass to split time as my primary bass with my dean edge . this might be winning me over . the bass boost is outstanding . the active pickups really allow you to adjust to the sound you want . i recommend this for anyone . if you 're a beginner like i was not too long ago , it 's an excellent bass to start with . if you 're on tour and/or music is making you money , this bass will be beatiful on stage . the color is a bit darker than in the picture . but , all around , this is a great buy .\n",
      "3. Stopwords Removed: bought bass split time primary bass dean edge . might winning . bass boost outstanding . active pickups really allow adjust sound want . recommend anyone . 're beginner like long ago , 's excellent bass start . 're tour and/or music making money , bass beatiful stage . color bit darker picture . , around , great buy .\n",
      "4. Punctuation Removed: bought bass split time primary bass dean edge  might winning  bass boost outstanding  active pickups really allow adjust sound want  recommend anyone  re beginner like long ago  s excellent bass start  re tour andor music making money  bass beatiful stage  color bit darker picture   around  great buy \n",
      "5. Space Removed: bought bass split time primary bass dean edge might winning bass boost outstanding active pickups really allow adjust sound want recommend anyone re beginner like long ago s excellent bass start re tour andor music making money bass beatiful stage color bit darker picture around great buy\n"
     ]
    }
   ],
   "source": [
    "source_directory = 'text_files'\n",
    "count = 0\n",
    "for filename in sortpls(os.listdir(source_directory)):\n",
    "    if filename.endswith('.txt'):\n",
    "        print(\"-----------------------------------------------------------------------\")\n",
    "        print(filename)\n",
    "        file_path = os.path.join(source_directory, filename)\n",
    "        with open(file_path, 'r', encoding='utf-8') as file:\n",
    "            text = file.read()\n",
    "            print(\"Original Text:\", text)\n",
    "            text = text.lower()  # lowercase the text\n",
    "            print(\"1. Lower Case: \", text)\n",
    "            tokens = word_tokenize(text)  # tokenize\n",
    "            print(\"2. tokenized: \", ' '.join(tokens))\n",
    "            tokens = [word for word in tokens if word not in stop_words]  # remove stopwords\n",
    "            print(\"3. Stopwords Removed:\", ' '.join(tokens))\n",
    "            tokens = [w.translate(punctuation_table) for w in tokens]  # remove punctuations\n",
    "            print(\"4. Punctuation Removed:\", ' '.join(tokens))\n",
    "            tokens = [word for word in tokens if word.strip()]  # remove blank space tokens\n",
    "            print(\"5. Space Removed:\", ' '.join(tokens))\n",
    "            count+=1\n",
    "    if count==5:\n",
    "        break"
   ]
  },
  {
   "cell_type": "markdown",
   "metadata": {},
   "source": [
    "created a general function ```preprocessing``` to handle the text much more structurally."
   ]
  },
  {
   "cell_type": "code",
   "execution_count": 5,
   "metadata": {},
   "outputs": [],
   "source": [
    "def preprocessing(text):\n",
    "    text = text.lower()\n",
    "    tokens = word_tokenize(text)  # Tokenize\n",
    "    tokens = [word for word in tokens if word not in stop_words]  # Remove stopwords\n",
    "    tokens = [w.translate(punctuation_table) for w in tokens]  # Remove punctuations\n",
    "    tokens = [word for word in tokens if word.strip()]  # Remove blank space tokens\n",
    "    text = ' '.join(tokens)\n",
    "    return text\n"
   ]
  },
  {
   "cell_type": "code",
   "execution_count": 6,
   "metadata": {},
   "outputs": [],
   "source": [
    "destination_directory = 'preprocessed'\n",
    "if not os.path.exists(destination_directory):\n",
    "    os.makedirs(destination_directory)\n",
    "\n",
    "stop_words = set(stopwords.words('english'))\n",
    "punctuation_table = str.maketrans('', '', string.punctuation)\n",
    "for filename in os.listdir(source_directory):\n",
    "\n",
    "    if filename.endswith('.txt'):\n",
    "        file_path = os.path.join(source_directory, filename)\n",
    "        with open(file_path, 'r', encoding='utf-8') as file:\n",
    "            text = file.read()\n",
    "            text = preprocessing(text)\n",
    "\n",
    "            processed_file_path = os.path.join(destination_directory, filename)\n",
    "            with open(processed_file_path, 'w', encoding='utf-8') as processed_file:\n",
    "                processed_file.write(text)"
   ]
  },
  {
   "cell_type": "markdown",
   "metadata": {},
   "source": [
    "# Q2: Unigram Inverted Index and Boolean Queries"
   ]
  },
  {
   "cell_type": "code",
   "execution_count": 7,
   "metadata": {},
   "outputs": [],
   "source": [
    "directory = 'preprocessed'\n",
    "inverted_index = {}\n",
    "\n",
    "for filename in os.listdir(directory):\n",
    "    if filename.endswith('.txt'):\n",
    "        file_path = os.path.join(directory, filename)\n",
    "        with open(file_path, 'r', encoding='utf-8') as file:\n",
    "            words = file.read().split()\n",
    "            for word in words:\n",
    "                if word in inverted_index:\n",
    "                    if filename not in inverted_index[word]:\n",
    "                        inverted_index[word].append(filename)\n",
    "                else:\n",
    "                    inverted_index[word] = [filename]\n"
   ]
  },
  {
   "cell_type": "code",
   "execution_count": 8,
   "metadata": {},
   "outputs": [],
   "source": [
    "with open('inverted_index1.pkl', 'wb') as f:\n",
    "    pickle.dump(inverted_index, f)"
   ]
  },
  {
   "cell_type": "code",
   "execution_count": 9,
   "metadata": {},
   "outputs": [],
   "source": [
    "with open('inverted_index1.pkl', 'rb') as f:\n",
    "    loaded_inverted_index = pickle.load(f)\n",
    "    inverted_index = loaded_inverted_index\n",
    "\n",
    "all_documents = [f for f in os.listdir('preprocessed') if f.endswith('.txt')]\n",
    "all_documents = set(all_documents)"
   ]
  },
  {
   "cell_type": "code",
   "execution_count": null,
   "metadata": {},
   "outputs": [],
   "source": [
    "pretty_dict = json.dumps(loaded_inverted_index, indent=4)\n",
    "print(pretty_dict)"
   ]
  },
  {
   "cell_type": "markdown",
   "metadata": {},
   "source": [
    "Set Algebra"
   ]
  },
  {
   "cell_type": "code",
   "execution_count": 11,
   "metadata": {},
   "outputs": [],
   "source": [
    "def and_operation(doc_set1, doc_set2):\n",
    "    return doc_set1.intersection(doc_set2)\n",
    "\n",
    "def or_operation(doc_set1, doc_set2):\n",
    "    return doc_set1.union(doc_set2)\n",
    "\n",
    "def and_not_operation(doc_set1, doc_set2):\n",
    "    return doc_set1.difference(doc_set2)\n",
    "\n",
    "def or_not_operation(doc_set1, doc_set2, all_docs = all_documents):\n",
    "    not_doc_set2 = all_docs.difference(doc_set2)\n",
    "    return or_operation(doc_set1, not_doc_set2)\n",
    "\n",
    "def get_docs_for_term(term, inverted_index):\n",
    "    return set(inverted_index.get(term, []))\n",
    "\n",
    "operation_functions = {\n",
    "    'AND': and_operation,\n",
    "    'OR': or_operation,\n",
    "    'AND NOT': and_not_operation,\n",
    "    'OR NOT': or_not_operation\n",
    "}\n"
   ]
  },
  {
   "cell_type": "code",
   "execution_count": 12,
   "metadata": {},
   "outputs": [
    {
     "name": "stdout",
     "output_type": "stream",
     "text": [
      "\n",
      "Query 1: car OR bag AND NOT canister \n",
      "Number of documents retrieved for query 1 : 31\n",
      "Names of documents retrieved for query 1 : file3.txt, file73.txt, file118.txt, file166.txt, file174.txt, file264.txt, file313.txt, file363.txt, file404.txt, file459.txt, file466.txt, file542.txt, file573.txt, file665.txt, file682.txt, file686.txt, file698.txt, file699.txt, file738.txt, file746.txt, file780.txt, file797.txt, file860.txt, file863.txt, file864.txt, file886.txt, file892.txt, file930.txt, file942.txt, file956.txt, file981.txt\n",
      "\n",
      "\n",
      "Query 2: coffee AND brewing OR NOT techniques OR cookbook \n",
      "Number of documents retrieved for query 2 : 999\n",
      "Names of documents retrieved for query 2 : file1.txt, file2.txt, file3.txt, file4.txt, file5.txt, file6.txt, file7.txt, file8.txt, file9.txt, file10.txt, file11.txt, file12.txt, file13.txt, file14.txt, file15.txt, file16.txt, file17.txt, file18.txt, file19.txt, file20.txt, file21.txt, file22.txt, file23.txt, file24.txt, file25.txt, file26.txt, file27.txt, file28.txt, file29.txt, file30.txt, file31.txt, file32.txt, file33.txt, file34.txt, file35.txt, file36.txt, file37.txt, file38.txt, file39.txt, file40.txt, file41.txt, file42.txt, file43.txt, file44.txt, file45.txt, file46.txt, file47.txt, file48.txt, file49.txt, file50.txt, file51.txt, file52.txt, file53.txt, file54.txt, file55.txt, file56.txt, file57.txt, file58.txt, file59.txt, file60.txt, file61.txt, file62.txt, file63.txt, file64.txt, file65.txt, file66.txt, file67.txt, file68.txt, file69.txt, file70.txt, file71.txt, file72.txt, file73.txt, file74.txt, file75.txt, file76.txt, file77.txt, file78.txt, file79.txt, file80.txt, file81.txt, file82.txt, file83.txt, file84.txt, file85.txt, file86.txt, file87.txt, file88.txt, file89.txt, file90.txt, file91.txt, file92.txt, file93.txt, file94.txt, file95.txt, file96.txt, file97.txt, file98.txt, file99.txt, file100.txt, file101.txt, file102.txt, file103.txt, file104.txt, file105.txt, file106.txt, file107.txt, file108.txt, file109.txt, file110.txt, file111.txt, file112.txt, file113.txt, file114.txt, file115.txt, file116.txt, file117.txt, file118.txt, file119.txt, file120.txt, file121.txt, file122.txt, file123.txt, file124.txt, file125.txt, file126.txt, file127.txt, file128.txt, file129.txt, file130.txt, file131.txt, file132.txt, file133.txt, file134.txt, file135.txt, file136.txt, file137.txt, file138.txt, file139.txt, file140.txt, file141.txt, file142.txt, file143.txt, file144.txt, file145.txt, file146.txt, file147.txt, file148.txt, file149.txt, file150.txt, file151.txt, file152.txt, file153.txt, file154.txt, file155.txt, file156.txt, file157.txt, file158.txt, file159.txt, file160.txt, file161.txt, file162.txt, file163.txt, file164.txt, file165.txt, file166.txt, file167.txt, file168.txt, file169.txt, file170.txt, file171.txt, file172.txt, file173.txt, file174.txt, file175.txt, file176.txt, file177.txt, file178.txt, file179.txt, file180.txt, file181.txt, file182.txt, file183.txt, file184.txt, file185.txt, file186.txt, file187.txt, file188.txt, file189.txt, file190.txt, file191.txt, file192.txt, file193.txt, file194.txt, file195.txt, file196.txt, file197.txt, file198.txt, file199.txt, file200.txt, file201.txt, file202.txt, file203.txt, file204.txt, file205.txt, file206.txt, file207.txt, file208.txt, file209.txt, file210.txt, file211.txt, file212.txt, file213.txt, file214.txt, file215.txt, file216.txt, file217.txt, file218.txt, file219.txt, file220.txt, file221.txt, file222.txt, file223.txt, file224.txt, file225.txt, file226.txt, file227.txt, file228.txt, file229.txt, file230.txt, file231.txt, file232.txt, file233.txt, file234.txt, file235.txt, file236.txt, file237.txt, file238.txt, file239.txt, file240.txt, file241.txt, file242.txt, file243.txt, file244.txt, file245.txt, file246.txt, file247.txt, file248.txt, file249.txt, file250.txt, file251.txt, file252.txt, file253.txt, file254.txt, file255.txt, file256.txt, file257.txt, file258.txt, file259.txt, file260.txt, file261.txt, file262.txt, file263.txt, file264.txt, file265.txt, file266.txt, file267.txt, file268.txt, file269.txt, file270.txt, file271.txt, file272.txt, file273.txt, file274.txt, file275.txt, file276.txt, file277.txt, file278.txt, file279.txt, file280.txt, file281.txt, file282.txt, file283.txt, file284.txt, file285.txt, file286.txt, file287.txt, file288.txt, file289.txt, file290.txt, file291.txt, file292.txt, file293.txt, file294.txt, file295.txt, file296.txt, file297.txt, file298.txt, file299.txt, file300.txt, file301.txt, file302.txt, file303.txt, file304.txt, file305.txt, file306.txt, file307.txt, file308.txt, file309.txt, file310.txt, file311.txt, file312.txt, file313.txt, file314.txt, file315.txt, file316.txt, file317.txt, file318.txt, file319.txt, file320.txt, file321.txt, file322.txt, file323.txt, file324.txt, file325.txt, file326.txt, file327.txt, file328.txt, file329.txt, file330.txt, file331.txt, file332.txt, file333.txt, file334.txt, file335.txt, file336.txt, file337.txt, file338.txt, file339.txt, file340.txt, file341.txt, file342.txt, file343.txt, file344.txt, file345.txt, file346.txt, file347.txt, file348.txt, file349.txt, file350.txt, file351.txt, file352.txt, file353.txt, file354.txt, file355.txt, file356.txt, file357.txt, file358.txt, file359.txt, file360.txt, file361.txt, file362.txt, file363.txt, file364.txt, file365.txt, file366.txt, file367.txt, file368.txt, file369.txt, file370.txt, file371.txt, file372.txt, file373.txt, file374.txt, file375.txt, file376.txt, file377.txt, file378.txt, file379.txt, file380.txt, file381.txt, file382.txt, file383.txt, file384.txt, file385.txt, file386.txt, file387.txt, file388.txt, file389.txt, file390.txt, file391.txt, file392.txt, file393.txt, file394.txt, file395.txt, file396.txt, file397.txt, file398.txt, file399.txt, file400.txt, file401.txt, file402.txt, file403.txt, file404.txt, file405.txt, file406.txt, file407.txt, file408.txt, file409.txt, file410.txt, file411.txt, file412.txt, file413.txt, file414.txt, file415.txt, file416.txt, file417.txt, file418.txt, file419.txt, file420.txt, file421.txt, file422.txt, file423.txt, file424.txt, file425.txt, file426.txt, file427.txt, file428.txt, file429.txt, file430.txt, file431.txt, file432.txt, file433.txt, file434.txt, file435.txt, file436.txt, file437.txt, file438.txt, file439.txt, file440.txt, file441.txt, file442.txt, file443.txt, file444.txt, file445.txt, file446.txt, file447.txt, file448.txt, file449.txt, file450.txt, file451.txt, file452.txt, file453.txt, file454.txt, file455.txt, file456.txt, file457.txt, file458.txt, file459.txt, file460.txt, file461.txt, file462.txt, file463.txt, file464.txt, file465.txt, file466.txt, file467.txt, file468.txt, file469.txt, file470.txt, file471.txt, file472.txt, file473.txt, file474.txt, file475.txt, file476.txt, file477.txt, file478.txt, file479.txt, file480.txt, file481.txt, file482.txt, file483.txt, file484.txt, file485.txt, file486.txt, file487.txt, file488.txt, file489.txt, file490.txt, file491.txt, file492.txt, file493.txt, file494.txt, file495.txt, file496.txt, file497.txt, file498.txt, file499.txt, file500.txt, file501.txt, file502.txt, file503.txt, file504.txt, file505.txt, file506.txt, file507.txt, file508.txt, file509.txt, file510.txt, file511.txt, file512.txt, file513.txt, file514.txt, file515.txt, file516.txt, file517.txt, file518.txt, file519.txt, file520.txt, file521.txt, file522.txt, file523.txt, file524.txt, file525.txt, file526.txt, file527.txt, file528.txt, file529.txt, file530.txt, file531.txt, file532.txt, file533.txt, file534.txt, file535.txt, file536.txt, file537.txt, file538.txt, file539.txt, file540.txt, file541.txt, file542.txt, file543.txt, file544.txt, file545.txt, file546.txt, file547.txt, file548.txt, file549.txt, file550.txt, file551.txt, file552.txt, file553.txt, file554.txt, file555.txt, file556.txt, file557.txt, file558.txt, file559.txt, file560.txt, file561.txt, file562.txt, file563.txt, file564.txt, file565.txt, file566.txt, file567.txt, file568.txt, file569.txt, file570.txt, file571.txt, file572.txt, file573.txt, file574.txt, file575.txt, file576.txt, file577.txt, file578.txt, file579.txt, file580.txt, file581.txt, file582.txt, file583.txt, file584.txt, file585.txt, file586.txt, file587.txt, file588.txt, file589.txt, file590.txt, file591.txt, file592.txt, file593.txt, file594.txt, file595.txt, file596.txt, file597.txt, file598.txt, file599.txt, file600.txt, file601.txt, file602.txt, file603.txt, file604.txt, file605.txt, file606.txt, file607.txt, file608.txt, file609.txt, file610.txt, file611.txt, file612.txt, file613.txt, file614.txt, file615.txt, file616.txt, file617.txt, file618.txt, file619.txt, file620.txt, file621.txt, file622.txt, file623.txt, file624.txt, file625.txt, file626.txt, file627.txt, file628.txt, file629.txt, file630.txt, file631.txt, file632.txt, file633.txt, file634.txt, file635.txt, file636.txt, file637.txt, file638.txt, file639.txt, file640.txt, file641.txt, file642.txt, file643.txt, file644.txt, file645.txt, file646.txt, file647.txt, file648.txt, file649.txt, file650.txt, file651.txt, file652.txt, file653.txt, file654.txt, file655.txt, file656.txt, file657.txt, file658.txt, file659.txt, file660.txt, file661.txt, file662.txt, file663.txt, file664.txt, file665.txt, file666.txt, file667.txt, file668.txt, file669.txt, file670.txt, file671.txt, file672.txt, file673.txt, file674.txt, file675.txt, file676.txt, file677.txt, file678.txt, file679.txt, file680.txt, file681.txt, file682.txt, file683.txt, file684.txt, file685.txt, file686.txt, file687.txt, file688.txt, file689.txt, file690.txt, file691.txt, file692.txt, file693.txt, file694.txt, file695.txt, file696.txt, file697.txt, file698.txt, file699.txt, file700.txt, file701.txt, file702.txt, file703.txt, file704.txt, file705.txt, file706.txt, file707.txt, file708.txt, file709.txt, file710.txt, file711.txt, file712.txt, file713.txt, file714.txt, file715.txt, file716.txt, file717.txt, file718.txt, file719.txt, file720.txt, file721.txt, file722.txt, file723.txt, file724.txt, file725.txt, file726.txt, file727.txt, file728.txt, file729.txt, file730.txt, file731.txt, file732.txt, file733.txt, file734.txt, file735.txt, file736.txt, file737.txt, file738.txt, file739.txt, file740.txt, file741.txt, file742.txt, file743.txt, file744.txt, file745.txt, file746.txt, file747.txt, file748.txt, file749.txt, file750.txt, file751.txt, file752.txt, file753.txt, file754.txt, file755.txt, file756.txt, file757.txt, file758.txt, file759.txt, file760.txt, file761.txt, file762.txt, file763.txt, file764.txt, file765.txt, file766.txt, file767.txt, file768.txt, file769.txt, file770.txt, file771.txt, file772.txt, file773.txt, file774.txt, file775.txt, file776.txt, file777.txt, file778.txt, file779.txt, file780.txt, file781.txt, file782.txt, file783.txt, file784.txt, file785.txt, file786.txt, file787.txt, file788.txt, file789.txt, file790.txt, file791.txt, file792.txt, file793.txt, file794.txt, file795.txt, file796.txt, file797.txt, file798.txt, file799.txt, file800.txt, file801.txt, file802.txt, file803.txt, file804.txt, file805.txt, file806.txt, file807.txt, file808.txt, file809.txt, file810.txt, file811.txt, file812.txt, file813.txt, file814.txt, file815.txt, file816.txt, file817.txt, file818.txt, file819.txt, file820.txt, file821.txt, file822.txt, file823.txt, file824.txt, file825.txt, file826.txt, file827.txt, file828.txt, file829.txt, file830.txt, file831.txt, file832.txt, file833.txt, file834.txt, file835.txt, file836.txt, file837.txt, file838.txt, file839.txt, file840.txt, file841.txt, file842.txt, file843.txt, file844.txt, file845.txt, file846.txt, file847.txt, file848.txt, file849.txt, file850.txt, file851.txt, file852.txt, file853.txt, file854.txt, file855.txt, file856.txt, file857.txt, file858.txt, file859.txt, file860.txt, file861.txt, file862.txt, file863.txt, file864.txt, file865.txt, file866.txt, file867.txt, file868.txt, file869.txt, file870.txt, file871.txt, file872.txt, file873.txt, file874.txt, file875.txt, file876.txt, file877.txt, file878.txt, file879.txt, file880.txt, file881.txt, file882.txt, file883.txt, file884.txt, file885.txt, file886.txt, file887.txt, file888.txt, file889.txt, file890.txt, file891.txt, file892.txt, file893.txt, file894.txt, file895.txt, file896.txt, file897.txt, file898.txt, file899.txt, file900.txt, file901.txt, file902.txt, file903.txt, file904.txt, file905.txt, file906.txt, file907.txt, file908.txt, file909.txt, file910.txt, file911.txt, file912.txt, file913.txt, file914.txt, file915.txt, file916.txt, file917.txt, file918.txt, file919.txt, file920.txt, file921.txt, file922.txt, file923.txt, file924.txt, file925.txt, file926.txt, file927.txt, file928.txt, file929.txt, file930.txt, file931.txt, file932.txt, file933.txt, file934.txt, file935.txt, file936.txt, file937.txt, file938.txt, file939.txt, file940.txt, file941.txt, file942.txt, file943.txt, file944.txt, file945.txt, file946.txt, file947.txt, file948.txt, file949.txt, file950.txt, file951.txt, file952.txt, file953.txt, file954.txt, file955.txt, file956.txt, file957.txt, file958.txt, file959.txt, file960.txt, file961.txt, file962.txt, file963.txt, file964.txt, file965.txt, file966.txt, file967.txt, file968.txt, file969.txt, file970.txt, file971.txt, file972.txt, file973.txt, file974.txt, file975.txt, file976.txt, file977.txt, file978.txt, file979.txt, file980.txt, file981.txt, file982.txt, file983.txt, file984.txt, file985.txt, file986.txt, file987.txt, file988.txt, file989.txt, file990.txt, file991.txt, file992.txt, file993.txt, file994.txt, file995.txt, file996.txt, file997.txt, file998.txt, file999.txt\n",
      "\n",
      "\n",
      "Query 3: one OR piece AND real AND real OR NOT way AND NOT hello \n",
      "Number of documents retrieved for query 3 : 928\n",
      "Names of documents retrieved for query 3 : file2.txt, file3.txt, file4.txt, file5.txt, file6.txt, file7.txt, file8.txt, file9.txt, file10.txt, file11.txt, file12.txt, file14.txt, file15.txt, file16.txt, file17.txt, file18.txt, file19.txt, file20.txt, file21.txt, file22.txt, file23.txt, file24.txt, file25.txt, file26.txt, file27.txt, file28.txt, file29.txt, file30.txt, file31.txt, file32.txt, file33.txt, file34.txt, file35.txt, file36.txt, file37.txt, file38.txt, file39.txt, file40.txt, file41.txt, file42.txt, file44.txt, file45.txt, file46.txt, file47.txt, file48.txt, file50.txt, file51.txt, file52.txt, file53.txt, file54.txt, file55.txt, file56.txt, file57.txt, file58.txt, file59.txt, file60.txt, file61.txt, file62.txt, file63.txt, file64.txt, file65.txt, file66.txt, file67.txt, file68.txt, file69.txt, file70.txt, file71.txt, file72.txt, file73.txt, file74.txt, file75.txt, file76.txt, file77.txt, file78.txt, file80.txt, file81.txt, file82.txt, file83.txt, file84.txt, file85.txt, file86.txt, file87.txt, file88.txt, file90.txt, file91.txt, file92.txt, file93.txt, file94.txt, file95.txt, file96.txt, file97.txt, file98.txt, file99.txt, file100.txt, file101.txt, file102.txt, file103.txt, file104.txt, file105.txt, file106.txt, file107.txt, file109.txt, file110.txt, file111.txt, file112.txt, file113.txt, file114.txt, file115.txt, file116.txt, file117.txt, file118.txt, file119.txt, file120.txt, file121.txt, file122.txt, file123.txt, file124.txt, file125.txt, file126.txt, file127.txt, file128.txt, file129.txt, file130.txt, file131.txt, file132.txt, file133.txt, file134.txt, file135.txt, file136.txt, file137.txt, file138.txt, file140.txt, file141.txt, file142.txt, file143.txt, file145.txt, file146.txt, file147.txt, file148.txt, file149.txt, file150.txt, file151.txt, file153.txt, file154.txt, file155.txt, file156.txt, file158.txt, file159.txt, file160.txt, file161.txt, file162.txt, file163.txt, file164.txt, file165.txt, file166.txt, file167.txt, file168.txt, file169.txt, file170.txt, file171.txt, file172.txt, file173.txt, file174.txt, file175.txt, file176.txt, file177.txt, file178.txt, file179.txt, file180.txt, file181.txt, file182.txt, file183.txt, file184.txt, file185.txt, file186.txt, file187.txt, file188.txt, file189.txt, file190.txt, file191.txt, file192.txt, file193.txt, file195.txt, file196.txt, file197.txt, file198.txt, file199.txt, file200.txt, file201.txt, file202.txt, file203.txt, file204.txt, file205.txt, file206.txt, file207.txt, file208.txt, file209.txt, file210.txt, file211.txt, file212.txt, file213.txt, file215.txt, file216.txt, file217.txt, file218.txt, file219.txt, file220.txt, file221.txt, file222.txt, file223.txt, file224.txt, file225.txt, file226.txt, file227.txt, file229.txt, file230.txt, file231.txt, file232.txt, file233.txt, file234.txt, file235.txt, file236.txt, file237.txt, file238.txt, file239.txt, file240.txt, file241.txt, file242.txt, file243.txt, file244.txt, file245.txt, file246.txt, file247.txt, file248.txt, file250.txt, file251.txt, file252.txt, file253.txt, file254.txt, file255.txt, file256.txt, file257.txt, file258.txt, file259.txt, file260.txt, file261.txt, file262.txt, file263.txt, file264.txt, file265.txt, file266.txt, file267.txt, file268.txt, file270.txt, file271.txt, file272.txt, file273.txt, file274.txt, file275.txt, file276.txt, file277.txt, file278.txt, file280.txt, file281.txt, file282.txt, file283.txt, file284.txt, file285.txt, file286.txt, file287.txt, file288.txt, file289.txt, file290.txt, file291.txt, file292.txt, file294.txt, file295.txt, file296.txt, file297.txt, file298.txt, file299.txt, file300.txt, file301.txt, file302.txt, file303.txt, file304.txt, file305.txt, file306.txt, file307.txt, file308.txt, file309.txt, file310.txt, file311.txt, file312.txt, file313.txt, file314.txt, file315.txt, file316.txt, file317.txt, file318.txt, file319.txt, file320.txt, file321.txt, file322.txt, file323.txt, file324.txt, file325.txt, file327.txt, file328.txt, file329.txt, file330.txt, file331.txt, file332.txt, file333.txt, file334.txt, file335.txt, file336.txt, file337.txt, file338.txt, file339.txt, file340.txt, file341.txt, file342.txt, file343.txt, file344.txt, file345.txt, file346.txt, file347.txt, file348.txt, file350.txt, file351.txt, file352.txt, file353.txt, file354.txt, file355.txt, file357.txt, file358.txt, file359.txt, file360.txt, file361.txt, file362.txt, file363.txt, file364.txt, file365.txt, file366.txt, file367.txt, file368.txt, file369.txt, file370.txt, file371.txt, file372.txt, file374.txt, file375.txt, file376.txt, file377.txt, file378.txt, file379.txt, file380.txt, file381.txt, file382.txt, file385.txt, file387.txt, file388.txt, file389.txt, file390.txt, file391.txt, file392.txt, file393.txt, file394.txt, file395.txt, file396.txt, file397.txt, file399.txt, file400.txt, file401.txt, file402.txt, file403.txt, file404.txt, file405.txt, file407.txt, file408.txt, file409.txt, file410.txt, file411.txt, file412.txt, file414.txt, file415.txt, file416.txt, file417.txt, file418.txt, file419.txt, file420.txt, file421.txt, file422.txt, file423.txt, file424.txt, file425.txt, file426.txt, file427.txt, file429.txt, file430.txt, file431.txt, file432.txt, file433.txt, file434.txt, file435.txt, file436.txt, file437.txt, file439.txt, file440.txt, file441.txt, file442.txt, file443.txt, file444.txt, file445.txt, file446.txt, file447.txt, file448.txt, file449.txt, file450.txt, file451.txt, file452.txt, file453.txt, file454.txt, file455.txt, file456.txt, file457.txt, file458.txt, file459.txt, file460.txt, file461.txt, file462.txt, file463.txt, file464.txt, file465.txt, file466.txt, file467.txt, file468.txt, file470.txt, file471.txt, file472.txt, file473.txt, file474.txt, file475.txt, file476.txt, file477.txt, file478.txt, file479.txt, file480.txt, file481.txt, file482.txt, file484.txt, file485.txt, file486.txt, file488.txt, file489.txt, file490.txt, file491.txt, file492.txt, file493.txt, file494.txt, file495.txt, file496.txt, file497.txt, file498.txt, file499.txt, file500.txt, file501.txt, file502.txt, file503.txt, file504.txt, file505.txt, file506.txt, file507.txt, file508.txt, file509.txt, file510.txt, file511.txt, file513.txt, file514.txt, file515.txt, file516.txt, file517.txt, file518.txt, file519.txt, file520.txt, file521.txt, file522.txt, file523.txt, file524.txt, file525.txt, file526.txt, file527.txt, file528.txt, file529.txt, file530.txt, file531.txt, file532.txt, file533.txt, file534.txt, file535.txt, file536.txt, file538.txt, file539.txt, file540.txt, file541.txt, file542.txt, file543.txt, file544.txt, file545.txt, file547.txt, file548.txt, file550.txt, file551.txt, file552.txt, file553.txt, file554.txt, file555.txt, file556.txt, file557.txt, file558.txt, file559.txt, file560.txt, file561.txt, file562.txt, file564.txt, file565.txt, file566.txt, file567.txt, file568.txt, file569.txt, file570.txt, file571.txt, file572.txt, file573.txt, file574.txt, file575.txt, file576.txt, file577.txt, file578.txt, file579.txt, file580.txt, file581.txt, file582.txt, file583.txt, file584.txt, file585.txt, file586.txt, file587.txt, file588.txt, file589.txt, file590.txt, file591.txt, file592.txt, file593.txt, file594.txt, file595.txt, file596.txt, file597.txt, file598.txt, file599.txt, file600.txt, file601.txt, file602.txt, file603.txt, file604.txt, file605.txt, file606.txt, file607.txt, file608.txt, file610.txt, file612.txt, file613.txt, file614.txt, file615.txt, file616.txt, file617.txt, file618.txt, file619.txt, file620.txt, file621.txt, file622.txt, file624.txt, file625.txt, file626.txt, file627.txt, file628.txt, file629.txt, file630.txt, file632.txt, file633.txt, file634.txt, file635.txt, file636.txt, file637.txt, file638.txt, file639.txt, file640.txt, file641.txt, file642.txt, file643.txt, file644.txt, file645.txt, file646.txt, file647.txt, file648.txt, file649.txt, file650.txt, file651.txt, file652.txt, file653.txt, file654.txt, file656.txt, file657.txt, file658.txt, file659.txt, file660.txt, file661.txt, file662.txt, file663.txt, file664.txt, file665.txt, file666.txt, file667.txt, file668.txt, file669.txt, file670.txt, file671.txt, file672.txt, file673.txt, file674.txt, file675.txt, file676.txt, file677.txt, file678.txt, file679.txt, file680.txt, file681.txt, file682.txt, file683.txt, file685.txt, file686.txt, file687.txt, file688.txt, file690.txt, file691.txt, file692.txt, file693.txt, file694.txt, file695.txt, file696.txt, file697.txt, file698.txt, file700.txt, file701.txt, file702.txt, file703.txt, file704.txt, file705.txt, file706.txt, file707.txt, file708.txt, file709.txt, file710.txt, file711.txt, file712.txt, file713.txt, file714.txt, file715.txt, file716.txt, file717.txt, file718.txt, file719.txt, file720.txt, file721.txt, file722.txt, file723.txt, file724.txt, file725.txt, file726.txt, file727.txt, file728.txt, file729.txt, file730.txt, file731.txt, file732.txt, file733.txt, file734.txt, file735.txt, file737.txt, file738.txt, file739.txt, file740.txt, file741.txt, file742.txt, file743.txt, file744.txt, file745.txt, file746.txt, file747.txt, file748.txt, file749.txt, file750.txt, file751.txt, file752.txt, file753.txt, file754.txt, file755.txt, file756.txt, file757.txt, file758.txt, file760.txt, file761.txt, file762.txt, file763.txt, file765.txt, file766.txt, file767.txt, file768.txt, file769.txt, file770.txt, file771.txt, file773.txt, file774.txt, file775.txt, file776.txt, file777.txt, file778.txt, file779.txt, file782.txt, file783.txt, file784.txt, file785.txt, file786.txt, file787.txt, file788.txt, file789.txt, file790.txt, file791.txt, file792.txt, file793.txt, file794.txt, file795.txt, file796.txt, file797.txt, file798.txt, file799.txt, file801.txt, file802.txt, file803.txt, file804.txt, file805.txt, file806.txt, file807.txt, file808.txt, file809.txt, file810.txt, file811.txt, file812.txt, file813.txt, file814.txt, file815.txt, file816.txt, file817.txt, file818.txt, file819.txt, file820.txt, file821.txt, file822.txt, file823.txt, file824.txt, file825.txt, file826.txt, file827.txt, file828.txt, file829.txt, file831.txt, file832.txt, file833.txt, file834.txt, file836.txt, file837.txt, file838.txt, file839.txt, file840.txt, file841.txt, file842.txt, file843.txt, file844.txt, file846.txt, file847.txt, file850.txt, file851.txt, file852.txt, file853.txt, file854.txt, file855.txt, file856.txt, file857.txt, file858.txt, file859.txt, file860.txt, file861.txt, file862.txt, file863.txt, file864.txt, file865.txt, file866.txt, file867.txt, file868.txt, file869.txt, file870.txt, file872.txt, file873.txt, file874.txt, file875.txt, file877.txt, file878.txt, file879.txt, file880.txt, file881.txt, file882.txt, file883.txt, file884.txt, file885.txt, file886.txt, file887.txt, file888.txt, file891.txt, file892.txt, file893.txt, file894.txt, file895.txt, file896.txt, file897.txt, file898.txt, file899.txt, file900.txt, file901.txt, file902.txt, file905.txt, file906.txt, file907.txt, file908.txt, file909.txt, file910.txt, file911.txt, file912.txt, file913.txt, file914.txt, file915.txt, file917.txt, file918.txt, file919.txt, file921.txt, file922.txt, file923.txt, file924.txt, file925.txt, file926.txt, file927.txt, file928.txt, file929.txt, file930.txt, file931.txt, file932.txt, file933.txt, file934.txt, file935.txt, file936.txt, file937.txt, file938.txt, file939.txt, file940.txt, file941.txt, file942.txt, file943.txt, file944.txt, file945.txt, file946.txt, file947.txt, file948.txt, file949.txt, file950.txt, file952.txt, file953.txt, file954.txt, file955.txt, file956.txt, file957.txt, file960.txt, file961.txt, file962.txt, file963.txt, file964.txt, file965.txt, file966.txt, file967.txt, file968.txt, file969.txt, file970.txt, file971.txt, file972.txt, file973.txt, file974.txt, file975.txt, file976.txt, file977.txt, file978.txt, file979.txt, file980.txt, file982.txt, file983.txt, file984.txt, file985.txt, file986.txt, file987.txt, file988.txt, file989.txt, file990.txt, file991.txt, file993.txt, file994.txt, file995.txt, file996.txt, file997.txt, file998.txt, file999.txt\n",
      "\n",
      "\n",
      "Query 4: india OR nice OR NOT america AND stupid \n",
      "Number of documents retrieved for query 4 : 1\n",
      "Names of documents retrieved for query 4 : file281.txt\n",
      "\n"
     ]
    }
   ],
   "source": [
    "n = int(input(\"Enter the number of queries: \"))\n",
    "# n = 1\n",
    "for k in range(n):\n",
    "    query = input(f\"Query {k+1}: \")\n",
    "    processed_query_list = preprocessing(query).split()\n",
    "\n",
    "    if len(processed_query_list) == 0:\n",
    "        print(\"Empty string\")\n",
    "        continue\n",
    "    if len(processed_query_list) == 1:\n",
    "        print(f\"Only One words is searched- {processed_query_list[0]}: found in {len(get_docs_for_term(processed_query_list[0], inverted_index))} docs\", sortpls(get_docs_for_term(processed_query_list[0], inverted_index)))\n",
    "        continue\n",
    "    ops = input(\"Enter operators (AND, OR, AND NOT, OR NOT), separated by commas: \")\n",
    "    ops_list = [x.strip() for x in ops.split(',')]\n",
    "    \n",
    "    state = True\n",
    "    for i in ops_list:\n",
    "        if i not in operation_functions.keys():\n",
    "            state = False\n",
    "            print('invalid operator')\n",
    "            break\n",
    "    if state == False:\n",
    "        continue\n",
    "\n",
    "    if len(ops_list) != len(processed_query_list) - 1:\n",
    "        print(\"Mismatch between number of terms and operators\")\n",
    "        continue\n",
    "    str = f\"Query {k+1}: {processed_query_list[0]} \"\n",
    "    for j in range(len(ops_list)):\n",
    "        str+= f'{ops_list[j]} {processed_query_list[j+1]} '\n",
    "    print()\n",
    "\n",
    "    current_docs = get_docs_for_term(processed_query_list[0], inverted_index)\n",
    "    for i, op in enumerate(ops_list):\n",
    "        next_docs = get_docs_for_term(processed_query_list[i+1], inverted_index)\n",
    "        try:\n",
    "            current_docs = operation_functions[op](current_docs, next_docs)\n",
    "        except Exception as error:\n",
    "            print(\"something went wrong\", error)\n",
    "            break\n",
    "\n",
    "    current_docs = sortpls(current_docs)\n",
    "    print(str)\n",
    "    print(f\"Number of documents retrieved for query {k+1} : {len(current_docs)}\")\n",
    "    print(f\"Names of documents retrieved for query {k+1} : {', '.join(current_docs)}\\n\")"
   ]
  },
  {
   "cell_type": "markdown",
   "metadata": {},
   "source": [
    "# Q3: Positional Index and Phrase Queries\n",
    "\n",
    "creating a positional index by looping into the preprocessed dir and then creating a dictionary data structure to store the keys(words) and their position. Storing the frequency is not considered as it is not required for the question.\n",
    "Note: The query will be searched for exact match and if any word(s) appear in between the original text, that result in different adjacent position but same relative position, the search query will be treated as unsuccessfull"
   ]
  },
  {
   "cell_type": "code",
   "execution_count": null,
   "metadata": {},
   "outputs": [],
   "source": [
    "directory = 'preprocessed'\n",
    "filenames = os.listdir(directory)\n",
    "filenames = sortpls(filenames)\n",
    "positional_index = {}\n",
    "for filename in filenames:\n",
    "    if filename.endswith('.txt'):\n",
    "        file_path = os.path.join(directory, filename)\n",
    "        with open(file_path, 'r', encoding='utf-8') as file:\n",
    "            position = 0\n",
    "            for word in file.read().split():\n",
    "                if word not in positional_index:\n",
    "                    positional_index[word] = {}\n",
    "                if filename not in positional_index[word]:\n",
    "                    positional_index[word][filename] = []\n",
    "                positional_index[word][filename].append(position)\n",
    "                position += 1\n",
    "\n",
    "with open('positional_index.pkl', 'wb') as f:\n",
    "    pickle.dump(positional_index, f)\n",
    "positional_index"
   ]
  },
  {
   "cell_type": "markdown",
   "metadata": {},
   "source": [
    "Loading the datastructure from the saved pickle file"
   ]
  },
  {
   "cell_type": "code",
   "execution_count": 31,
   "metadata": {},
   "outputs": [],
   "source": [
    "with open('positional_index.pkl', 'rb') as f:\n",
    "    loaded_positional_index = pickle.load(f)"
   ]
  },
  {
   "cell_type": "code",
   "execution_count": 48,
   "metadata": {},
   "outputs": [
    {
     "name": "stdout",
     "output_type": "stream",
     "text": [
      "great buy\n",
      "Number of documents retrieved for query 1 using positional index: 7\n",
      "Names of documents retrieved for query 1 using positional index: file5.txt, file105.txt, file167.txt, file214.txt, file283.txt, file712.txt, file906.txt\n",
      "\n"
     ]
    }
   ],
   "source": [
    "def find_docs(query, ds):\n",
    "    words = query.split()\n",
    "    docs = set()\n",
    "\n",
    "    for i, word in enumerate(words):\n",
    "        if word in ds:\n",
    "            if i == 0:\n",
    "                docs = set(ds[word].keys())\n",
    "            else:\n",
    "                docs = docs.intersection(set(ds[word].keys()))\n",
    "                temp_docs = set()\n",
    "                for doc in docs:\n",
    "                    positions = ds[words[i-1]][doc]\n",
    "                    if any(p+1 in ds[word][doc] for p in positions):\n",
    "                        temp_docs.add(doc)\n",
    "                docs = temp_docs\n",
    "        else:\n",
    "            return set()  \n",
    "\n",
    "    return docs\n",
    "\n",
    "n = int(input(\"Enter the number of queries: \"))\n",
    "for i in range(n):\n",
    "    query = input(f\"Query {i+1}: \")\n",
    "    if query in ['', ' ', ' ']:\n",
    "        print(\"Query was empty\")\n",
    "        break\n",
    "    query = preprocessing(query)\n",
    "    print(query)\n",
    "    documents = find_docs(query, loaded_positional_index)\n",
    "    if len(documents) == 0:\n",
    "        print(\"No Match Found\")\n",
    "        continue\n",
    "    print(f\"Number of documents retrieved for query {i+1} using positional index: {len(documents)}\")\n",
    "    print(f\"Names of documents retrieved for query {i+1} using positional index: {', '.join(sortpls(documents))}\\n\")"
   ]
  }
 ],
 "metadata": {
  "kernelspec": {
   "display_name": "Python 3",
   "language": "python",
   "name": "python3"
  },
  "language_info": {
   "codemirror_mode": {
    "name": "ipython",
    "version": 3
   },
   "file_extension": ".py",
   "mimetype": "text/x-python",
   "name": "python",
   "nbconvert_exporter": "python",
   "pygments_lexer": "ipython3",
   "version": "3.11.4"
  }
 },
 "nbformat": 4,
 "nbformat_minor": 2
}
