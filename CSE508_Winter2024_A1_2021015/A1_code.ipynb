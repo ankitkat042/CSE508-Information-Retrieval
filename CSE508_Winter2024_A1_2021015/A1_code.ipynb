{
 "cells": [
  {
   "cell_type": "markdown",
   "metadata": {},
   "source": [
    "Importing necessary packages "
   ]
  },
  {
   "cell_type": "code",
   "execution_count": 151,
   "metadata": {},
   "outputs": [],
   "source": [
    "import os\n",
    "import string\n",
    "import nltk\n",
    "from nltk.tokenize import word_tokenize\n",
    "from nltk.corpus import stopwords\n",
    "import pickle\n",
    "import json\n",
    "import re\n",
    "\n",
    "# nltk.download('punkt')\n",
    "# nltk.download('stopwords')"
   ]
  },
  {
   "cell_type": "markdown",
   "metadata": {},
   "source": [
    "For 5 files: file1.txt, file10.txt, file100.txt, file101.txt and file102.txt"
   ]
  },
  {
   "cell_type": "code",
   "execution_count": 152,
   "metadata": {},
   "outputs": [
    {
     "name": "stdout",
     "output_type": "stream",
     "text": [
      "-----------------------------------------------------------------------\n",
      "file1.txt\n",
      "Original Text: Loving these vintage springs on my vintage strat. They have a good tension and great stability. If you are floating your bridge and want the most out of your springs than these are the way to go.\n",
      "1. Lower Case:  loving these vintage springs on my vintage strat. they have a good tension and great stability. if you are floating your bridge and want the most out of your springs than these are the way to go.\n",
      "2. tokenized:  loving these vintage springs on my vintage strat . they have a good tension and great stability . if you are floating your bridge and want the most out of your springs than these are the way to go .\n",
      "3. Punctuation Removed: loving these vintage springs on my vintage strat  they have a good tension and great stability  if you are floating your bridge and want the most out of your springs than these are the way to go \n",
      "4. Stopwords Removed: loving vintage springs vintage strat  good tension great stability  floating bridge want springs way go \n",
      "5. Space Removed: loving vintage springs vintage strat good tension great stability floating bridge want springs way go\n",
      "-----------------------------------------------------------------------\n",
      "file10.txt\n",
      "Original Text: Awesome stand!\n",
      "\n",
      "Tip: The bottom part that supports the guitar had a weird angle when arrived, making the guitar slide back, becoming almost 100% on a vertical.\n",
      "To solve this, I assembled the product and the put a some pressure on the support frame, making it bend a little. Now my guitar sits perfectly. Check photos!\n",
      "1. Lower Case:  awesome stand!\n",
      "\n",
      "tip: the bottom part that supports the guitar had a weird angle when arrived, making the guitar slide back, becoming almost 100% on a vertical.\n",
      "to solve this, i assembled the product and the put a some pressure on the support frame, making it bend a little. now my guitar sits perfectly. check photos!\n",
      "2. tokenized:  awesome stand ! tip : the bottom part that supports the guitar had a weird angle when arrived , making the guitar slide back , becoming almost 100 % on a vertical . to solve this , i assembled the product and the put a some pressure on the support frame , making it bend a little . now my guitar sits perfectly . check photos !\n",
      "3. Punctuation Removed: awesome stand  tip  the bottom part that supports the guitar had a weird angle when arrived  making the guitar slide back  becoming almost 100  on a vertical  to solve this  i assembled the product and the put a some pressure on the support frame  making it bend a little  now my guitar sits perfectly  check photos \n",
      "4. Stopwords Removed: awesome stand  tip  bottom part supports guitar weird angle arrived  making guitar slide back  becoming almost 100  vertical  solve  assembled product put pressure support frame  making bend little  guitar sits perfectly  check photos \n",
      "5. Space Removed: awesome stand tip bottom part supports guitar weird angle arrived making guitar slide back becoming almost 100 vertical solve assembled product put pressure support frame making bend little guitar sits perfectly check photos\n",
      "-----------------------------------------------------------------------\n",
      "file100.txt\n",
      "Original Text: This amp is the real deal.  Great crunch and gain tones and with some tweaking, not half bad clean\"ish\" tones.  I've played this through the two 8\" Orange cabs (had to get those too as they were just TOO cool ((and cute)) and not crazy money) and the sound is very pleasing and revealing for a practice amp.  I primarily play it through my Blackstar stack that I've fitted with Celestion V30s... Wow...there it is~!!!  You would never know this thing was such a tone monster... Even with just a few knobs it's easy to get lost for hours playing this thing.  My favorite match is with my Chapman ML-1 Hotrod...which only has a volume \"tone\" control (EVH fans get this).  Not a lot of mucking around with too many knobs or too many options on either the guitar or this amp... Just tone up and go.  I see the Micro Dark just came out...that's probably next~!  Higher gain, buffered effects loop and speaker emu at the headphone out for recording direct (if that's your thing).\n",
      "1. Lower Case:  this amp is the real deal.  great crunch and gain tones and with some tweaking, not half bad clean\"ish\" tones.  i've played this through the two 8\" orange cabs (had to get those too as they were just too cool ((and cute)) and not crazy money) and the sound is very pleasing and revealing for a practice amp.  i primarily play it through my blackstar stack that i've fitted with celestion v30s... wow...there it is~!!!  you would never know this thing was such a tone monster... even with just a few knobs it's easy to get lost for hours playing this thing.  my favorite match is with my chapman ml-1 hotrod...which only has a volume \"tone\" control (evh fans get this).  not a lot of mucking around with too many knobs or too many options on either the guitar or this amp... just tone up and go.  i see the micro dark just came out...that's probably next~!  higher gain, buffered effects loop and speaker emu at the headphone out for recording direct (if that's your thing).\n",
      "2. tokenized:  this amp is the real deal . great crunch and gain tones and with some tweaking , not half bad clean '' ish '' tones . i 've played this through the two 8 '' orange cabs ( had to get those too as they were just too cool ( ( and cute ) ) and not crazy money ) and the sound is very pleasing and revealing for a practice amp . i primarily play it through my blackstar stack that i 've fitted with celestion v30s ... wow ... there it is~ ! ! ! you would never know this thing was such a tone monster ... even with just a few knobs it 's easy to get lost for hours playing this thing . my favorite match is with my chapman ml-1 hotrod ... which only has a volume `` tone '' control ( evh fans get this ) . not a lot of mucking around with too many knobs or too many options on either the guitar or this amp ... just tone up and go . i see the micro dark just came out ... that 's probably next~ ! higher gain , buffered effects loop and speaker emu at the headphone out for recording direct ( if that 's your thing ) .\n",
      "3. Punctuation Removed: this amp is the real deal  great crunch and gain tones and with some tweaking  not half bad clean  ish  tones  i ve played this through the two 8  orange cabs  had to get those too as they were just too cool   and cute   and not crazy money  and the sound is very pleasing and revealing for a practice amp  i primarily play it through my blackstar stack that i ve fitted with celestion v30s  wow  there it is    you would never know this thing was such a tone monster  even with just a few knobs it s easy to get lost for hours playing this thing  my favorite match is with my chapman ml1 hotrod  which only has a volume  tone  control  evh fans get this   not a lot of mucking around with too many knobs or too many options on either the guitar or this amp  just tone up and go  i see the micro dark just came out  that s probably next  higher gain  buffered effects loop and speaker emu at the headphone out for recording direct  if that s your thing  \n",
      "4. Stopwords Removed: amp real deal  great crunch gain tones tweaking  half bad clean  ish  tones  played two 8  orange cabs  get cool   cute   crazy money  sound pleasing revealing practice amp  primarily play blackstar stack fitted celestion v30s  wow     would never know thing tone monster  even knobs easy get lost hours playing thing  favorite match chapman ml1 hotrod  volume  tone  control  evh fans get   lot mucking around many knobs many options either guitar amp  tone go  see micro dark came  probably next  higher gain  buffered effects loop speaker emu headphone recording direct  thing  \n",
      "5. Space Removed: amp real deal great crunch gain tones tweaking half bad clean ish tones played two 8 orange cabs get cool cute crazy money sound pleasing revealing practice amp primarily play blackstar stack fitted celestion v30s wow would never know thing tone monster even knobs easy get lost hours playing thing favorite match chapman ml1 hotrod volume tone control evh fans get lot mucking around many knobs many options either guitar amp tone go see micro dark came probably next higher gain buffered effects loop speaker emu headphone recording direct thing\n",
      "-----------------------------------------------------------------------\n",
      "file101.txt\n",
      "Original Text: You can do a lot with this mixer. its great for podcasting. has 4 outputs that can be used to monitor, record, cue audio...The mute to 3/4 figure on every channel is fantastic and the three source switch to headphone/control room is a must for podcasting. Also has aux return inputs that can be used as extra stereo inputs and be volumed by the aux return knobs.\n",
      "\n",
      "Only thing I didn't like about this mixer is the XLR outputs in back that require adaptors to use with RCA or 1/4 plugs. get the adaptors with it\n",
      "1. Lower Case:  you can do a lot with this mixer. its great for podcasting. has 4 outputs that can be used to monitor, record, cue audio...the mute to 3/4 figure on every channel is fantastic and the three source switch to headphone/control room is a must for podcasting. also has aux return inputs that can be used as extra stereo inputs and be volumed by the aux return knobs.\n",
      "\n",
      "only thing i didn't like about this mixer is the xlr outputs in back that require adaptors to use with rca or 1/4 plugs. get the adaptors with it\n",
      "2. tokenized:  you can do a lot with this mixer . its great for podcasting . has 4 outputs that can be used to monitor , record , cue audio ... the mute to 3/4 figure on every channel is fantastic and the three source switch to headphone/control room is a must for podcasting . also has aux return inputs that can be used as extra stereo inputs and be volumed by the aux return knobs . only thing i did n't like about this mixer is the xlr outputs in back that require adaptors to use with rca or 1/4 plugs . get the adaptors with it\n",
      "3. Punctuation Removed: you can do a lot with this mixer  its great for podcasting  has 4 outputs that can be used to monitor  record  cue audio  the mute to 34 figure on every channel is fantastic and the three source switch to headphonecontrol room is a must for podcasting  also has aux return inputs that can be used as extra stereo inputs and be volumed by the aux return knobs  only thing i did nt like about this mixer is the xlr outputs in back that require adaptors to use with rca or 14 plugs  get the adaptors with it\n",
      "4. Stopwords Removed: lot mixer  great podcasting  4 outputs used monitor  record  cue audio  mute 34 figure every channel fantastic three source switch headphonecontrol room must podcasting  also aux return inputs used extra stereo inputs volumed aux return knobs  thing nt like mixer xlr outputs back require adaptors use rca 14 plugs  get adaptors\n",
      "5. Space Removed: lot mixer great podcasting 4 outputs used monitor record cue audio mute 34 figure every channel fantastic three source switch headphonecontrol room must podcasting also aux return inputs used extra stereo inputs volumed aux return knobs thing nt like mixer xlr outputs back require adaptors use rca 14 plugs get adaptors\n",
      "-----------------------------------------------------------------------\n",
      "file102.txt\n",
      "Original Text: <div id=\"video-block-R2VOQ5CBZHFCKL\" class=\"a-section a-spacing-small a-spacing-top-mini video-block\"></div><input type=\"hidden\" name=\"\" value=\"https://images-na.ssl-images-amazon.com/images/I/E1%2B6MhK2MfS.mp4\" class=\"video-url\"><input type=\"hidden\" name=\"\" value=\"https://images-na.ssl-images-amazon.com/images/I/21-Jk5lxqsS.png\" class=\"video-slate-img-url\">&nbsp;This mic is a BOSS and a lot better than just about any other mic I've seen or used out-of-the-box for voice over. It sounds great even before processing, and with some compression and EQ, it sounds fantastic. It rejects a ton of background noise and sounds amazing.\n",
      "\n",
      "It runs very HOT! So you'll want clean pre-amping as to get a clean signal, but this is an amazing mic for the price.\n",
      "1. Lower Case:  <div id=\"video-block-r2voq5cbzhfckl\" class=\"a-section a-spacing-small a-spacing-top-mini video-block\"></div><input type=\"hidden\" name=\"\" value=\"https://images-na.ssl-images-amazon.com/images/i/e1%2b6mhk2mfs.mp4\" class=\"video-url\"><input type=\"hidden\" name=\"\" value=\"https://images-na.ssl-images-amazon.com/images/i/21-jk5lxqss.png\" class=\"video-slate-img-url\">&nbsp;this mic is a boss and a lot better than just about any other mic i've seen or used out-of-the-box for voice over. it sounds great even before processing, and with some compression and eq, it sounds fantastic. it rejects a ton of background noise and sounds amazing.\n",
      "\n",
      "it runs very hot! so you'll want clean pre-amping as to get a clean signal, but this is an amazing mic for the price.\n",
      "2. tokenized:  < div id= '' video-block-r2voq5cbzhfckl '' class= '' a-section a-spacing-small a-spacing-top-mini video-block '' > < /div > < input type= '' hidden '' name= '' '' value= '' https : //images-na.ssl-images-amazon.com/images/i/e1 % 2b6mhk2mfs.mp4 '' class= '' video-url '' > < input type= '' hidden '' name= '' '' value= '' https : //images-na.ssl-images-amazon.com/images/i/21-jk5lxqss.png '' class= '' video-slate-img-url '' > & nbsp ; this mic is a boss and a lot better than just about any other mic i 've seen or used out-of-the-box for voice over . it sounds great even before processing , and with some compression and eq , it sounds fantastic . it rejects a ton of background noise and sounds amazing . it runs very hot ! so you 'll want clean pre-amping as to get a clean signal , but this is an amazing mic for the price .\n",
      "3. Punctuation Removed:  div id  videoblockr2voq5cbzhfckl  class  asection aspacingsmall aspacingtopmini videoblock    div   input type  hidden  name   value  https  imagesnasslimagesamazoncomimagesie1  2b6mhk2mfsmp4  class  videourl    input type  hidden  name   value  https  imagesnasslimagesamazoncomimagesi21jk5lxqsspng  class  videoslateimgurl    nbsp  this mic is a boss and a lot better than just about any other mic i ve seen or used outofthebox for voice over  it sounds great even before processing  and with some compression and eq  it sounds fantastic  it rejects a ton of background noise and sounds amazing  it runs very hot  so you ll want clean preamping as to get a clean signal  but this is an amazing mic for the price \n",
      "4. Stopwords Removed:  div id  videoblockr2voq5cbzhfckl  class  asection aspacingsmall aspacingtopmini videoblock    div   input type  hidden  name   value  https  imagesnasslimagesamazoncomimagesie1  2b6mhk2mfsmp4  class  videourl    input type  hidden  name   value  https  imagesnasslimagesamazoncomimagesi21jk5lxqsspng  class  videoslateimgurl    nbsp  mic boss lot better mic seen used outofthebox voice  sounds great even processing  compression eq  sounds fantastic  rejects ton background noise sounds amazing  runs hot  want clean preamping get clean signal  amazing mic price \n",
      "5. Space Removed: div id videoblockr2voq5cbzhfckl class asection aspacingsmall aspacingtopmini videoblock div input type hidden name value https imagesnasslimagesamazoncomimagesie1 2b6mhk2mfsmp4 class videourl input type hidden name value https imagesnasslimagesamazoncomimagesi21jk5lxqsspng class videoslateimgurl nbsp mic boss lot better mic seen used outofthebox voice sounds great even processing compression eq sounds fantastic rejects ton background noise sounds amazing runs hot want clean preamping get clean signal amazing mic price\n"
     ]
    }
   ],
   "source": [
    "source_directory = 'text_files'\n",
    "\n",
    "stop_words = set(stopwords.words('english'))\n",
    "punctuation_table = str.maketrans('', '', string.punctuation)\n",
    "count = 0\n",
    "for filename in os.listdir(source_directory):\n",
    "    if filename.endswith('.txt'):\n",
    "        print(\"-----------------------------------------------------------------------\")\n",
    "        print(filename)\n",
    "        file_path = os.path.join(source_directory, filename)\n",
    "        with open(file_path, 'r', encoding='utf-8') as file:\n",
    "            text = file.read()\n",
    "            print(\"Original Text:\", text)\n",
    "            text = text.lower()  # Lowercase the text\n",
    "            print(\"1. Lower Case: \", text)\n",
    "            tokens = word_tokenize(text)  # Tokenize\n",
    "            print(\"2. tokenized: \", ' '.join(tokens))\n",
    "            tokens = [w.translate(punctuation_table) for w in tokens]  # Remove punctuations\n",
    "            print(\"3. Punctuation Removed:\", ' '.join(tokens))\n",
    "            tokens = [word for word in tokens if word not in stop_words]  # Remove stopwords\n",
    "            print(\"4. Stopwords Removed:\", ' '.join(tokens))\n",
    "            tokens = [word for word in tokens if word.strip()]  # Remove blank space tokens\n",
    "            print(\"5. Space Removed:\", ' '.join(tokens))\n",
    "            count+=1\n",
    "    if count==5:\n",
    "        break"
   ]
  },
  {
   "cell_type": "code",
   "execution_count": 153,
   "metadata": {},
   "outputs": [],
   "source": [
    "def preprocessing(text):\n",
    "    text = text.lower()\n",
    "    tokens = word_tokenize(text)  # Tokenize\n",
    "    tokens = [w.translate(punctuation_table) for w in tokens]  # Remove punctuations\n",
    "    tokens = [word for word in tokens if word not in stop_words]  # Remove stopwords\n",
    "    tokens = [word for word in tokens if word.strip()]  # Remove blank space tokens\n",
    "    text = ' '.join(tokens)\n",
    "    return text\n"
   ]
  },
  {
   "cell_type": "code",
   "execution_count": 154,
   "metadata": {},
   "outputs": [],
   "source": [
    "all_documents = []\n",
    "destination_directory = 'preprocessed'\n",
    "if not os.path.exists(destination_directory):\n",
    "    os.makedirs(destination_directory)\n",
    "\n",
    "stop_words = set(stopwords.words('english'))\n",
    "punctuation_table = str.maketrans('', '', string.punctuation)\n",
    "for filename in os.listdir(source_directory):\n",
    "    all_documents.append(filename)\n",
    "    if filename.endswith('.txt'):\n",
    "        file_path = os.path.join(source_directory, filename)\n",
    "        with open(file_path, 'r', encoding='utf-8') as file:\n",
    "            text = file.read()\n",
    "            text = preprocessing(text)\n",
    "\n",
    "            processed_file_path = os.path.join(destination_directory, filename)\n",
    "            with open(processed_file_path, 'w', encoding='utf-8') as processed_file:\n",
    "                processed_file.write(text)\n",
    "all_documents = set(all_documents)"
   ]
  },
  {
   "cell_type": "code",
   "execution_count": 155,
   "metadata": {},
   "outputs": [],
   "source": [
    "directory = 'preprocessed'\n",
    "inverted_index = {}\n",
    "\n",
    "for filename in os.listdir(directory):\n",
    "    if filename.endswith('.txt'):\n",
    "        file_path = os.path.join(directory, filename)\n",
    "        with open(file_path, 'r', encoding='utf-8') as file:\n",
    "            words = file.read().split()\n",
    "            for word in words:\n",
    "                if word in inverted_index:\n",
    "                    if filename not in inverted_index[word]:\n",
    "                        inverted_index[word].append(filename)\n",
    "                else:\n",
    "                    inverted_index[word] = [filename]\n"
   ]
  },
  {
   "cell_type": "code",
   "execution_count": 156,
   "metadata": {},
   "outputs": [],
   "source": [
    "with open('inverted_index.pkl', 'wb') as f:\n",
    "    pickle.dump(inverted_index, f)"
   ]
  },
  {
   "cell_type": "code",
   "execution_count": 157,
   "metadata": {},
   "outputs": [],
   "source": [
    "with open('inverted_index.pkl', 'rb') as f:\n",
    "    loaded_inverted_index = pickle.load(f)\n",
    "    inverted_index = loaded_inverted_index\n",
    "    "
   ]
  },
  {
   "cell_type": "code",
   "execution_count": null,
   "metadata": {},
   "outputs": [],
   "source": [
    "pretty_dict = json.dumps(loaded_inverted_index, indent=4)\n",
    "print(pretty_dict)"
   ]
  },
  {
   "cell_type": "code",
   "execution_count": 139,
   "metadata": {},
   "outputs": [
    {
     "name": "stdout",
     "output_type": "stream",
     "text": [
      "hello america\n"
     ]
    }
   ],
   "source": [
    "text = 'hello america'\n",
    "print(preprocessing(text))"
   ]
  },
  {
   "cell_type": "code",
   "execution_count": 159,
   "metadata": {},
   "outputs": [],
   "source": [
    "def and_operation(doc_set1, doc_set2):\n",
    "    return doc_set1.intersection(doc_set2)\n",
    "\n",
    "def or_operation(doc_set1, doc_set2):\n",
    "    return doc_set1.union(doc_set2)\n",
    "\n",
    "def and_not_operation(doc_set1, doc_set2):\n",
    "    return doc_set1.difference(doc_set2)\n",
    "\n",
    "def or_not_operation(doc_set1, doc_set2, all_docs = all_documents):\n",
    "    not_doc_set2 = all_docs.difference(doc_set2)\n",
    "    return or_operation(doc_set1, not_doc_set2)\n",
    "\n",
    "def get_docs_for_term(term, inverted_index):\n",
    "    return set(inverted_index.get(term, []))\n",
    "\n",
    "operation_functions = {\n",
    "    'AND': and_operation,\n",
    "    'OR': or_operation,\n",
    "    'AND NOT': and_not_operation,\n",
    "    'OR NOT': or_not_operation\n",
    "}\n"
   ]
  },
  {
   "cell_type": "code",
   "execution_count": null,
   "metadata": {},
   "outputs": [],
   "source": [
    "n = int(input(\"Enter the number of queries: \"))\n",
    "# n = 1\n",
    "for k in range(n):\n",
    "    query = input(f\"Query {k+1}: \")\n",
    "    processed_query_list = preprocessing(query).split()\n",
    "\n",
    "    if len(processed_query_list) == 0:\n",
    "        print(\"Empty string\")\n",
    "        continue\n",
    "    if len(processed_query_list) == 1:\n",
    "        print(f\"Only One words is searched- {processed_query_list[0]}: found in {len(get_docs_for_term(processed_query_list[0], inverted_index))} docs\", get_docs_for_term(processed_query_list[0], inverted_index))\n",
    "        continue\n",
    "    ops = input(\"Enter operators (AND, OR, AND NOT, OR NOT), separated by commas: \")\n",
    "    ops_list = [x.strip() for x in ops.split(',')]\n",
    "\n",
    "    if len(ops_list) != len(processed_query_list) - 1:\n",
    "        print(\"Mismatch between number of terms and operators\")\n",
    "        continue\n",
    "    str = f'Query {k+1}: {processed_query_list[0]} '\n",
    "    for j in range(len(ops_list)):\n",
    "        str+= f'{ops_list[j]} {processed_query_list[j+1]} '\n",
    "    print()\n",
    "\n",
    "    current_docs = get_docs_for_term(processed_query_list[0], inverted_index)\n",
    "    for i, op in enumerate(ops_list):\n",
    "        next_docs = get_docs_for_term(processed_query_list[i+1], inverted_index)\n",
    "        try:\n",
    "            current_docs = operation_functions[op](current_docs, next_docs)\n",
    "        except:\n",
    "            break\n",
    "        # if op == \"AND\":\n",
    "        #     current_docs = and_operation(current_docs, next_docs)\n",
    "        # elif op == \"OR\":\n",
    "        #     current_docs = or_operation(current_docs, next_docs)\n",
    "        # elif op == \"AND NOT\":\n",
    "        #     current_docs = and_not_operation(current_docs, next_docs)\n",
    "        # elif op == \"OR NOT\":\n",
    "        #     current_docs = or_not_operation(current_docs, next_docs)\n",
    "        # else:\n",
    "        #     print(f\"Unknown operation: {op}\")\n",
    "        #     break\n",
    "    current_docs = sorted(current_docs, key=lambda x: int(re.search(r'\\d+', x).group()))\n",
    "    print(str)\n",
    "    print(f'Number of documents retrieved for query {k+1} : {len(current_docs)}')\n",
    "    print(f'Names of documents retrieved for query {k+1} : {current_docs}\\n')"
   ]
  },
  {
   "cell_type": "code",
   "execution_count": null,
   "metadata": {},
   "outputs": [],
   "source": [
    "directory = 'preprocessed'\n",
    "filenames = os.listdir(directory)\n",
    "filenames = sorted(filenames, key=lambda x: int(re.search(r'\\d+', x).group()))\n",
    "positional_index = {}\n",
    "for filename in filenames:\n",
    "    if filename.endswith('.txt'):\n",
    "        file_path = os.path.join(directory, filename)\n",
    "        with open(file_path, 'r', encoding='utf-8') as file:\n",
    "            position = 0\n",
    "            for word in file.read().split():\n",
    "                if word not in positional_index:\n",
    "                    positional_index[word] = {}\n",
    "                if filename not in positional_index[word]:\n",
    "                    positional_index[word][filename] = []\n",
    "                positional_index[word][filename].append(position)\n",
    "                position += 1\n",
    "\n",
    "with open('positional_index.pkl', 'wb') as f:\n",
    "    pickle.dump(positional_index, f)\n",
    "positional_index"
   ]
  },
  {
   "cell_type": "code",
   "execution_count": null,
   "metadata": {},
   "outputs": [],
   "source": [
    "with open('positional_index.pkl', 'rb') as f:\n",
    "    loaded_positional_index = pickle.load(f)"
   ]
  },
  {
   "cell_type": "code",
   "execution_count": null,
   "metadata": {},
   "outputs": [],
   "source": []
  }
 ],
 "metadata": {
  "kernelspec": {
   "display_name": "Python 3",
   "language": "python",
   "name": "python3"
  },
  "language_info": {
   "codemirror_mode": {
    "name": "ipython",
    "version": 3
   },
   "file_extension": ".py",
   "mimetype": "text/x-python",
   "name": "python",
   "nbconvert_exporter": "python",
   "pygments_lexer": "ipython3",
   "version": "3.11.4"
  }
 },
 "nbformat": 4,
 "nbformat_minor": 2
}
